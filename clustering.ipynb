{
 "cells": [
  {
   "cell_type": "code",
   "execution_count": 1,
   "id": "corresponding-violin",
   "metadata": {},
   "outputs": [],
   "source": [
    "from src.create_dataset import main\n",
    "import matplotlib.pyplot as plt\n",
    "import os\n",
    "from os.path import join\n",
    "import pickle\n",
    "import numpy as np\n",
    "import pandas as pd\n",
    "import json\n",
    "from itertools import product"
   ]
  },
  {
   "cell_type": "code",
   "execution_count": 2,
   "id": "stupid-brook",
   "metadata": {},
   "outputs": [],
   "source": [
    "from tqdm.notebook import tqdm"
   ]
  },
  {
   "cell_type": "code",
   "execution_count": 3,
   "id": "sunset-wellington",
   "metadata": {},
   "outputs": [],
   "source": [
    "from sklearn.cluster import KMeans\n",
    "from sklearn.decomposition import PCA, TruncatedSVD\n",
    "from sklearn.manifold import TSNE\n",
    "from sklearn.preprocessing import LabelEncoder\n",
    "from sklearn.metrics import classification_report, davies_bouldin_score, silhouette_score"
   ]
  },
  {
   "cell_type": "code",
   "execution_count": 4,
   "id": "controlling-scene",
   "metadata": {},
   "outputs": [],
   "source": [
    "from typing import Dict, List"
   ]
  },
  {
   "cell_type": "code",
   "execution_count": 5,
   "id": "copyrighted-italian",
   "metadata": {},
   "outputs": [],
   "source": [
    "from src.convert_jsons_to_csvs import convert_jsons_to_csv"
   ]
  },
  {
   "cell_type": "code",
   "execution_count": 6,
   "id": "square-warrant",
   "metadata": {},
   "outputs": [],
   "source": [
    "def get_subdataset(dataset: pd.DataFrame, hist_name: str, n_bins: int) -> pd.DataFrame:\n",
    "      return dataset[(dataset.n_bins == n_bins) & \n",
    "                     (dataset.hist_type == hist_name)][['type', 'values']]"
   ]
  },
  {
   "cell_type": "code",
   "execution_count": 7,
   "id": "sweet-warrant",
   "metadata": {},
   "outputs": [
    {
     "name": "stderr",
     "output_type": "stream",
     "text": [
      "100%|██████████| 20/20 [00:15<00:00,  1.28it/s]\n"
     ]
    }
   ],
   "source": [
    "dataset = convert_jsons_to_csv('data3/histograms/', 'data3/labels.csv')"
   ]
  },
  {
   "cell_type": "code",
   "execution_count": 8,
   "id": "measured-myanmar",
   "metadata": {},
   "outputs": [
    {
     "data": {
      "text/html": [
       "<div>\n",
       "<style scoped>\n",
       "    .dataframe tbody tr th:only-of-type {\n",
       "        vertical-align: middle;\n",
       "    }\n",
       "\n",
       "    .dataframe tbody tr th {\n",
       "        vertical-align: top;\n",
       "    }\n",
       "\n",
       "    .dataframe thead th {\n",
       "        text-align: right;\n",
       "    }\n",
       "</style>\n",
       "<table border=\"1\" class=\"dataframe\">\n",
       "  <thead>\n",
       "    <tr style=\"text-align: right;\">\n",
       "      <th></th>\n",
       "      <th>model</th>\n",
       "      <th>type</th>\n",
       "      <th>model_name</th>\n",
       "      <th>hist_type</th>\n",
       "      <th>n_bins</th>\n",
       "      <th>values</th>\n",
       "    </tr>\n",
       "  </thead>\n",
       "  <tbody>\n",
       "    <tr>\n",
       "      <th>0</th>\n",
       "      <td>1b220e0b-d7fa-40a0-8cfd-930a3228c668</td>\n",
       "      <td>Sphere</td>\n",
       "      <td>1b220e0b-d7fa-40a0-8cfd-930a3228c668</td>\n",
       "      <td>model_bounding_sphere_concentric_sphere</td>\n",
       "      <td>8</td>\n",
       "      <td>[0, 0, 0, 0, 0.3373978709670946, 0.31850100387...</td>\n",
       "    </tr>\n",
       "    <tr>\n",
       "      <th>1</th>\n",
       "      <td>1b220e0b-d7fa-40a0-8cfd-930a3228c668</td>\n",
       "      <td>Sphere</td>\n",
       "      <td>1b220e0b-d7fa-40a0-8cfd-930a3228c668</td>\n",
       "      <td>model_bounding_sphere_concentric_sphere</td>\n",
       "      <td>16</td>\n",
       "      <td>[0, 0, 0, 0, 0, 0, 0, 0, 0.10627104869753085, ...</td>\n",
       "    </tr>\n",
       "    <tr>\n",
       "      <th>2</th>\n",
       "      <td>1b220e0b-d7fa-40a0-8cfd-930a3228c668</td>\n",
       "      <td>Sphere</td>\n",
       "      <td>1b220e0b-d7fa-40a0-8cfd-930a3228c668</td>\n",
       "      <td>model_bounding_sphere_concentric_sphere</td>\n",
       "      <td>32</td>\n",
       "      <td>[0, 0, 0, 0, 0, 0, 0, 0, 0, 0, 0, 0, 0, 0, 0, ...</td>\n",
       "    </tr>\n",
       "    <tr>\n",
       "      <th>3</th>\n",
       "      <td>1b220e0b-d7fa-40a0-8cfd-930a3228c668</td>\n",
       "      <td>Sphere</td>\n",
       "      <td>1b220e0b-d7fa-40a0-8cfd-930a3228c668</td>\n",
       "      <td>model_bounding_sphere_concentric_sphere</td>\n",
       "      <td>64</td>\n",
       "      <td>[0, 0, 0, 0, 0, 0, 0, 0, 0, 0, 0, 0, 0, 0, 0, ...</td>\n",
       "    </tr>\n",
       "    <tr>\n",
       "      <th>4</th>\n",
       "      <td>1b220e0b-d7fa-40a0-8cfd-930a3228c668</td>\n",
       "      <td>Sphere</td>\n",
       "      <td>1b220e0b-d7fa-40a0-8cfd-930a3228c668</td>\n",
       "      <td>model_bounding_sphere_concentric_sphere</td>\n",
       "      <td>128</td>\n",
       "      <td>[0, 0, 0, 0, 0, 0, 0, 0, 0, 0, 0, 0, 0, 0, 0, ...</td>\n",
       "    </tr>\n",
       "  </tbody>\n",
       "</table>\n",
       "</div>"
      ],
      "text/plain": [
       "                                  model    type  \\\n",
       "0  1b220e0b-d7fa-40a0-8cfd-930a3228c668  Sphere   \n",
       "1  1b220e0b-d7fa-40a0-8cfd-930a3228c668  Sphere   \n",
       "2  1b220e0b-d7fa-40a0-8cfd-930a3228c668  Sphere   \n",
       "3  1b220e0b-d7fa-40a0-8cfd-930a3228c668  Sphere   \n",
       "4  1b220e0b-d7fa-40a0-8cfd-930a3228c668  Sphere   \n",
       "\n",
       "                             model_name  \\\n",
       "0  1b220e0b-d7fa-40a0-8cfd-930a3228c668   \n",
       "1  1b220e0b-d7fa-40a0-8cfd-930a3228c668   \n",
       "2  1b220e0b-d7fa-40a0-8cfd-930a3228c668   \n",
       "3  1b220e0b-d7fa-40a0-8cfd-930a3228c668   \n",
       "4  1b220e0b-d7fa-40a0-8cfd-930a3228c668   \n",
       "\n",
       "                                 hist_type  n_bins  \\\n",
       "0  model_bounding_sphere_concentric_sphere       8   \n",
       "1  model_bounding_sphere_concentric_sphere      16   \n",
       "2  model_bounding_sphere_concentric_sphere      32   \n",
       "3  model_bounding_sphere_concentric_sphere      64   \n",
       "4  model_bounding_sphere_concentric_sphere     128   \n",
       "\n",
       "                                              values  \n",
       "0  [0, 0, 0, 0, 0.3373978709670946, 0.31850100387...  \n",
       "1  [0, 0, 0, 0, 0, 0, 0, 0, 0.10627104869753085, ...  \n",
       "2  [0, 0, 0, 0, 0, 0, 0, 0, 0, 0, 0, 0, 0, 0, 0, ...  \n",
       "3  [0, 0, 0, 0, 0, 0, 0, 0, 0, 0, 0, 0, 0, 0, 0, ...  \n",
       "4  [0, 0, 0, 0, 0, 0, 0, 0, 0, 0, 0, 0, 0, 0, 0, ...  "
      ]
     },
     "execution_count": 8,
     "metadata": {},
     "output_type": "execute_result"
    }
   ],
   "source": [
    "dataset.head()"
   ]
  },
  {
   "cell_type": "code",
   "execution_count": 9,
   "id": "controversial-aberdeen",
   "metadata": {},
   "outputs": [
    {
     "name": "stdout",
     "output_type": "stream",
     "text": [
      "davies bouldin score 1.1861606719208708\n",
      "silhouette score 0.27266058630573264\n",
      "              precision    recall  f1-score   support\n",
      "\n",
      "        Cone       0.41      0.36      0.38       374\n",
      "        Cube       0.00      0.02      0.01        60\n",
      "    Cylinder       0.20      0.20      0.20       315\n",
      "      Sphere       0.19      0.16      0.17       429\n",
      "       Torus       0.20      0.15      0.17       421\n",
      "\n",
      "    accuracy                           0.20      1599\n",
      "   macro avg       0.20      0.18      0.19      1599\n",
      "weighted avg       0.24      0.20      0.22      1599\n",
      "\n"
     ]
    }
   ],
   "source": [
    "sub_dataset = get_subdataset(dataset, 'model_bounding_sphere_concentric_sphere', 8)\n",
    "\n",
    "labels = sub_dataset.type.values\n",
    "u_labels = np.unique(labels)\n",
    "X = np.vstack(sub_dataset['values'].values)\n",
    "\n",
    "le = LabelEncoder().fit(labels)\n",
    "tr_labels = le.transform(labels)\n",
    "\n",
    "kmeans = KMeans(n_clusters=len(u_labels), random_state=0).fit(X)\n",
    "pca = PCA(n_components=2)\n",
    "X_r = pca.fit_transform(X)\n",
    "Z = kmeans.predict(X)\n",
    "\n",
    "print('davies bouldin score', davies_bouldin_score(X, Z))\n",
    "print('silhouette score', silhouette_score(X, Z))\n",
    "print(classification_report(Z, tr_labels, target_names=le.classes_))\n"
   ]
  },
  {
   "cell_type": "code",
   "execution_count": 10,
   "id": "lesbian-lesbian",
   "metadata": {},
   "outputs": [
    {
     "name": "stdout",
     "output_type": "stream",
     "text": [
      "davies bouldin score 1.485175692177613\n",
      "silhouette score 0.19670974064217922\n",
      "              precision    recall  f1-score   support\n",
      "\n",
      "        Cone       0.15      0.10      0.12       479\n",
      "        Cube       0.00      0.02      0.01        60\n",
      "    Cylinder       0.20      0.20      0.20       311\n",
      "      Sphere       0.19      0.21      0.20       320\n",
      "       Torus       0.25      0.19      0.22       429\n",
      "\n",
      "    accuracy                           0.16      1599\n",
      "   macro avg       0.16      0.14      0.15      1599\n",
      "weighted avg       0.19      0.16      0.17      1599\n",
      "\n"
     ]
    }
   ],
   "source": [
    "sub_dataset = get_subdataset(dataset, 'model_bounding_sphere_concentric_sphere', 128)\n",
    "\n",
    "labels = sub_dataset.type.values\n",
    "u_labels = np.unique(labels)\n",
    "X = np.vstack(sub_dataset['values'].values)\n",
    "\n",
    "le = LabelEncoder().fit(labels)\n",
    "tr_labels = le.transform(labels)\n",
    "\n",
    "kmeans = KMeans(n_clusters=len(u_labels), random_state=0).fit(X)\n",
    "pca = PCA(n_components=2)\n",
    "X_r = pca.fit_transform(X)\n",
    "Z = kmeans.predict(X)\n",
    "\n",
    "print('davies bouldin score', davies_bouldin_score(X, Z))\n",
    "print('silhouette score', silhouette_score(X, Z))\n",
    "print(classification_report(Z, tr_labels, target_names=le.classes_))\n"
   ]
  },
  {
   "cell_type": "code",
   "execution_count": null,
   "id": "occupied-running",
   "metadata": {},
   "outputs": [],
   "source": []
  }
 ],
 "metadata": {
  "kernelspec": {
   "display_name": "Python 3",
   "language": "python",
   "name": "python3"
  },
  "language_info": {
   "codemirror_mode": {
    "name": "ipython",
    "version": 3
   },
   "file_extension": ".py",
   "mimetype": "text/x-python",
   "name": "python",
   "nbconvert_exporter": "python",
   "pygments_lexer": "ipython3",
   "version": "3.7.9"
  }
 },
 "nbformat": 4,
 "nbformat_minor": 5
}

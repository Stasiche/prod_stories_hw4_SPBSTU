{
 "cells": [
  {
   "cell_type": "code",
   "execution_count": 15,
   "id": "exciting-shock",
   "metadata": {},
   "outputs": [],
   "source": [
    "import requests\n",
    "import json\n",
    "import os\n",
    "import numpy as np\n",
    "from os.path import join\n",
    "from typing import Tuple, List, Dict, Union, Set\n",
    "from time import sleep"
   ]
  },
  {
   "cell_type": "code",
   "execution_count": 16,
   "id": "bearing-visitor",
   "metadata": {},
   "outputs": [],
   "source": [
    "import matplotlib.pyplot as plt \n",
    "from tqdm.notebook import tqdm"
   ]
  },
  {
   "cell_type": "code",
   "execution_count": 17,
   "id": "passing-bumper",
   "metadata": {},
   "outputs": [],
   "source": [
    "api_url = 'http://45.14.48.80:10000/'\n",
    "upload_url = api_url + 'upload'\n",
    "task_url = api_url + 'task'\n",
    "healthcheck_url = api_url + 'healthcheck'\n",
    "results_url = api_url + 'results'\n",
    "\n",
    "CURL_POST = 'curl -vvvv -X POST'\n",
    "CURL_GET = 'curl -vvvv -X GET'\n",
    "\n",
    "cwd = os.getcwd()\n",
    "models_path = 'data/models'"
   ]
  },
  {
   "cell_type": "code",
   "execution_count": 18,
   "id": "interior-watson",
   "metadata": {},
   "outputs": [],
   "source": [
    "def upload(full_path: str, upload_url: str) -> Tuple[str, str]:\n",
    "    r = json.loads(os.popen(f'{CURL_POST} -H \"User-Id: test\" --form file=\"@{full_path}\" \"{upload_url}\"').read())\n",
    "    uuid = r['uuid']\n",
    "    filename = r['filename']\n",
    "    return uuid, filename\n",
    "\n",
    "def task(uuid: str, filename: str, task_url: str):\n",
    "    config = {\n",
    "        'uuid' : uuid,\n",
    "        'verison': '1',\n",
    "        'file': filename,\n",
    "        'id': 'test',\n",
    "        'is_part': False\n",
    "    }\n",
    "    config = json.dumps(config)\n",
    "    os.popen(f'{CURL_POST} -d \\'{config}\\' \"{task_url}\"').read()\n",
    "    \n",
    "def healthcheck(healthcheck_url: str) -> Tuple[str, str]:\n",
    "    r = json.loads(os.popen(f'{CURL_GET} \"{healthcheck_url}\"').read())\n",
    "    return r['status'], r['progress']\n",
    "\n",
    "def get_bins_number_set(results_url: str) -> Set[int]:\n",
    "    r = json.loads(os.popen(f'{CURL_GET} \"{results_url}\"').read())['histogram_data']\n",
    "    return set([el['intervals'] for el in r if not el['type'].startswith('hull')])\n",
    "\n",
    "def get_hists(bins_num: int, results_url: str) -> Dict[str,  List[float]]:\n",
    "    r = json.loads(os.popen(f'{CURL_GET} \"{results_url}\"').read())['histogram_data']\n",
    "    hists = [el for el in r if (el['intervals'] == bins_num) and not el['type'].startswith('hull')]\n",
    "    res = {}\n",
    "    for el in hists: \n",
    "        res[el['type']] = el['data']\n",
    "    \n",
    "    return res"
   ]
  },
  {
   "cell_type": "code",
   "execution_count": 19,
   "id": "peaceful-missouri",
   "metadata": {},
   "outputs": [
    {
     "data": {
      "text/plain": [
       "['eea8de8c-071c-40a9-b890-51c786838889.stl',\n",
       " '4de1f31b-9dc8-4eb7-987a-19caf8ad70ca.stl']"
      ]
     },
     "execution_count": 19,
     "metadata": {},
     "output_type": "execute_result"
    }
   ],
   "source": [
    "models_lst = [el for el in os.listdir(models_path) if el.endswith('.stl')]\n",
    "models_lst[:2]"
   ]
  },
  {
   "cell_type": "code",
   "execution_count": 20,
   "id": "obvious-dakota",
   "metadata": {},
   "outputs": [
    {
     "data": {
      "application/vnd.jupyter.widget-view+json": {
       "model_id": "b440bb8e086a4523a25b0fec28beafd2",
       "version_major": 2,
       "version_minor": 0
      },
      "text/plain": [
       "HBox(children=(FloatProgress(value=0.0), HTML(value='')))"
      ]
     },
     "metadata": {},
     "output_type": "display_data"
    }
   ],
   "source": [
    "i = 0\n",
    "full_path = f'{cwd}/{models_path}/{models_lst[i]}'\n",
    "uuid, filename = upload(full_path, upload_url)\n",
    "task(uuid, filename, task_url)\n",
    "\n",
    "pbar = tqdm(total=100)\n",
    "status, progress = healthcheck(healthcheck_url)\n",
    "while status != 'COMPLETED':\n",
    "    status, progress = healthcheck(healthcheck_url)\n",
    "    pbar.update(round(progress - pbar.n))\n",
    "    sleep(1)"
   ]
  },
  {
   "cell_type": "code",
   "execution_count": 22,
   "id": "certain-resident",
   "metadata": {},
   "outputs": [
    {
     "data": {
      "text/plain": [
       "{8, 16, 32, 64, 128}"
      ]
     },
     "execution_count": 22,
     "metadata": {},
     "output_type": "execute_result"
    }
   ],
   "source": [
    "get_bins_number_set(results_url)"
   ]
  },
  {
   "cell_type": "code",
   "execution_count": 13,
   "id": "comfortable-missouri",
   "metadata": {},
   "outputs": [],
   "source": [
    "hists = get_hists(64, results_url)"
   ]
  },
  {
   "cell_type": "code",
   "execution_count": 14,
   "id": "verified-location",
   "metadata": {},
   "outputs": [
    {
     "data": {
      "image/png": "[encoded data removed]",
      "text/plain": [
       "<Figure size 432x288 with 1 Axes>"
      ]
     },
     "metadata": {
      "needs_background": "light"
     },
     "output_type": "display_data"
    }
   ],
   "source": [
    "plt.plot(hists['model_bounding_sphere_strict_outer']);"
   ]
  },
  {
   "cell_type": "code",
   "execution_count": null,
   "id": "thermal-timer",
   "metadata": {},
   "outputs": [],
   "source": []
  }
 ],
 "metadata": {
  "kernelspec": {
   "display_name": "Python 3",
   "language": "python",
   "name": "python3"
  },
  "language_info": {
   "codemirror_mode": {
    "name": "ipython",
    "version": 3
   },
   "file_extension": ".py",
   "mimetype": "text/x-python",
   "name": "python",
   "nbconvert_exporter": "python",
   "pygments_lexer": "ipython3",
   "version": "3.7.9"
  }
 },
 "nbformat": 4,
 "nbformat_minor": 5
}

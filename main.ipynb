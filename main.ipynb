{
 "cells": [
  {
   "cell_type": "code",
   "execution_count": 1,
   "id": "boolean-wagner",
   "metadata": {},
   "outputs": [],
   "source": [
    "import requests\n",
    "import json\n",
    "import os\n",
    "from os.path import join"
   ]
  },
  {
   "cell_type": "code",
   "execution_count": 2,
   "id": "exterior-congo",
   "metadata": {},
   "outputs": [],
   "source": [
    "api_url = 'http://45.14.48.80:10000/'\n",
    "models_path = 'data/models/'"
   ]
  },
  {
   "cell_type": "code",
   "execution_count": 3,
   "id": "logical-clark",
   "metadata": {},
   "outputs": [
    {
     "data": {
      "text/plain": [
       "['acf7bf74-d74f-4bfa-9141-720ae3dbc73c.stl',\n",
       " 'db68cd74-4697-409d-bb73-981ba4346c6a.stl']"
      ]
     },
     "execution_count": 3,
     "metadata": {},
     "output_type": "execute_result"
    }
   ],
   "source": [
    "models_lst = [el for el in os.listdir(models_path) if el.endswith('.stl')]\n",
    "models_lst[:2]"
   ]
  },
  {
   "cell_type": "markdown",
   "id": "initial-acrobat",
   "metadata": {},
   "source": [
    "Очень странно, что в описании апи требуется передать имя файла, попробовал это сделать двумя способами -- передать именно имя файла и чуть менее странное, относительный путь до файла"
   ]
  },
  {
   "cell_type": "code",
   "execution_count": 4,
   "id": "blond-rolling",
   "metadata": {},
   "outputs": [
    {
     "name": "stdout",
     "output_type": "stream",
     "text": [
      "db68cd74-4697-409d-bb73-981ba4346c6a.stl\n",
      "post: 202 \n",
      "healthcheck: {\"uuid\":\"db68cd74-4697-409d-bb73-981ba4346c6a\",\"version\":\"1\",\"id\":\"1234\",\"file\":\"db68cd74-4697-409d-bb73-981ba4346c6a.stl\",\"is_part\":true,\"status\":\"FAILED\",\"progress\":0}\n",
      "\n"
     ]
    }
   ],
   "source": [
    "i = 1\n",
    "print(models_lst[i])\n",
    "\n",
    "task = {\n",
    "    'uuid': models_lst[i].split('.')[0],\n",
    "    'version': '1',\n",
    "    'id': '1234',\n",
    "    'file': models_lst[i],\n",
    "    'is_part': True\n",
    "}\n",
    "task = json.dumps(task)\n",
    "r = requests.post(api_url+'task', data=task)\n",
    "print('post:', r.status_code, r.text)\n",
    "\n",
    "r = requests.get(api_url+'healthcheck')\n",
    "print('healthcheck:', r.text)"
   ]
  },
  {
   "cell_type": "code",
   "execution_count": 5,
   "id": "alive-supplier",
   "metadata": {},
   "outputs": [
    {
     "name": "stdout",
     "output_type": "stream",
     "text": [
      "acf7bf74-d74f-4bfa-9141-720ae3dbc73c.stl\n",
      "post: 202 \n",
      "healthcheck: {\"uuid\":\"acf7bf74-d74f-4bfa-9141-720ae3dbc73c\",\"version\":\"1\",\"id\":\"1234\",\"file\":\"data/models/acf7bf74-d74f-4bfa-9141-720ae3dbc73c.stl\",\"is_part\":true,\"status\":\"FAILED\",\"progress\":0}\n",
      "\n"
     ]
    }
   ],
   "source": [
    "i = 0\n",
    "print(models_lst[i])\n",
    "\n",
    "task = {\n",
    "    'uuid': models_lst[i].split('.')[0],\n",
    "    'version': '1',\n",
    "    'id': '1234',\n",
    "    'file': join(models_path, models_lst[i]),\n",
    "    'is_part': True\n",
    "}\n",
    "task = json.dumps(task)\n",
    "r = requests.post(api_url+'task', data=task)\n",
    "print('post:', r.status_code, r.text)\n",
    "\n",
    "r = requests.get(api_url+'healthcheck')\n",
    "print('healthcheck:', r.text)"
   ]
  },
  {
   "cell_type": "markdown",
   "id": "played-complex",
   "metadata": {},
   "source": [
    "Решил попробовать то, как я обычно работаю с апи -- передаю файл бинарным потоком. "
   ]
  },
  {
   "cell_type": "code",
   "execution_count": 6,
   "id": "bacterial-brazilian",
   "metadata": {},
   "outputs": [
    {
     "name": "stdout",
     "output_type": "stream",
     "text": [
      "acf7bf74-d74f-4bfa-9141-720ae3dbc73c.stl\n",
      "post: 202 \n",
      "healthcheck: {\"uuid\":\"acf7bf74-d74f-4bfa-9141-720ae3dbc73c\",\"version\":\"1\",\"id\":\"1234\",\"file\":\"b'Exported from Blender-2.93.5\\\\x00\\\\x00\\\\x00\\\\x00\\\\x00\\\\x00\\\\x00\\\\x00\\\\x00\\\\x00\\\\x00\\\\x00\\\\x00\\\\x00\\\\x00\\\\x00\\\\x00\\\\x00\\\\x00\\\\x00\\\\x00\\\\x00\\\\x00\\\\x00\\\\x00\\\\x00\\\\x00\\\\x00\\\\x00\\\\x00\\\\x00\\\\x00\\\\x00\\\\x00\\\\x00\\\\x00\\\\x00\\\\x00\\\\x00\\\\x00\\\\x00\\\\x00\\\\x00\\\\x00\\\\x00\\\\x00\\\\x00\\\\x00\\\\x00\\\\x00\\\\x00\\\\x00\\u003e\\\\x00\\\\x00\\\\x00@\\\\x10\\\\xfa=\\\\xc8\\\\xdav\\\\xbf/\\\\xb9p\\\\xbe,?\\\\x88\\\\xbf|=@\\\\xc0\\\\xbe\\\\xa3\\\\xe5@\\\\xca\\\\x1c\\\\xf1\\\\xc0o\\\\xcd\\\\x95\\\\xbf\\\\x8f\\\\x1em\\\\xc0\\\\x1c;Y\\\\xbf\\\\x0c\\\"\\u003c\\\\xc0\\\\xce\\\\xcd\\\\xe0@\\\\x00\\\\x00uA\\\\xf6\\u003e\\\\x84)D\\\\xbf\\\\x11#\\\\xda\\\\xbe\\\\x1c;Y\\\\xbf\\\\x0c\\\"\\u003c\\\\xc0\\\\xce\\\\xcd\\\\xe0@\\\\xca\\\\x1c\\\\xf1\\\\xc0o\\\\xcd\\\\x95\\\\xbf\\\\x8f\\\\x1em\\\\xc0\\\\xe0#\\u0026\\\\xbf\\\\xfb\\\\xb4-\\\\xc0n\\\\n\\\\xdb@\\\\x00\\\\x00Q\\\\x92%?\\\\xcc)\\\\x12\\\\xbf\\u003et\\\\x01\\\\xbf\\\\xe0#\\u0026\\\\xbf\\\\xfb\\\\xb4-\\\\xc0n\\\\n\\\\xdb@\\\\xca\\\\x1c\\\\xf1\\\\xc0o\\\\xcd\\\\x95\\\\xbf\\\\x8f\\\\x1em\\\\xc0\\\\x90^\\\\xf2\\\\xbe9\\\\x84\\\\x15\\\\xc0P\\\\x92\\\\xd4@\\\\x00\\\\x00\\\\xf3\\\\xf28?\\\\xf6\\u0026\\\\xdc\\\\xbe\\\\x83\\\\x9c\\\\n\\\\xbf\\\\x90^\\\\xf2\\\\xbe9\\\\x84\\\\x15\\\\xc0P\\\\x92\\\\xd4@\\\\xca\\\\x1c\\\\xf1\\\\xc0o\\\\xcd\\\\x95\\\\xbf\\\\x8f\\\\x1em\\\\xc0 /\\\\xa8\\\\xbe\\\\x7f\\\\xfb\\\\xe8\\\\xbf\\\\x18\\\\xa5\\\\xcd@\\\\x00\\\\x00\\\\x0b\\\\x91B?\\\\xfdy\\\\xa7\\\\xbeH\\\\xc3\\\\x0f\\\\xbf /\\\\xa8\\\\xbe\\\\x7f\\\\xfb\\\\xe8\\\\xbf\\\\x18\\\\xa5\\\\xcd@\\\\xca\\\\x1c\\\\xf1\\\\xc0o\\\\xcd\\\\x95\\\\xbf\\\\x8f\\\\x1em\\\\xc0\\\\xa0\\u0026a\\\\xbe\\\\xed\\\\xcc\\\\x97\\\\xbf\\\\xec\\\\x86\\\\xc6@\\\\x00\\\\x00\\\\x05\\\\x8aG?\\\\xb6\\\\xc2|\\\\xbe\\\\xb9f\\\\x13\\\\xbf\\\\xa0\\u0026a\\\\xbe\\\\xed\\\\xcc\\\\x97\\\\xbf\\\\xec\\\\x86\\\\xc6@\\\\xca\\\\x1c\\\\xf1\\\\xc0o\\\\xcd\\\\x95\\\\xbf\\\\x8f\\\\x1em\\\\xc0`\\\\\\\\\\\\x1b\\\\xbe\\\\x85m\\\\xea\\\\xbe\\\\xd4}\\\\xbf@\\\\x00\\\\x00\\u003e\\\\xeeI?M\\\\xdb7\\\\xbe\\\\x81}\\\\x16\\\\xbf`\\\\\\\\\\\\x1b\\\\xbe\\\\x85m\\\\xea\\\\xbe\\\\xd4}\\\\xbf@\\\\xca\\\\x1c\\\\xf1\\\\xc0o\\\\xcd\\\\x95\\\\xbf\\\\x8f\\\\x1em\\\\xc0\\\\x00\\\\xae\\\\x01\\\\xbe+\\\\x11\\\\xac\\u003e\\\\x04\\\\xcf\\\\xb8@\\\\x00\\\\x00\\\\xee\\\\x9bJ?\\\\x06\\\\xf2\\\\xf3\\\\xbd\\\\x8dz\\\\x19\\\\xbf\\\\x00\\\\xae\\\\x01\\\\xbe+\\\\x11\\\\xac\\u003e\\\\x04\\\\xcf\\\\xb8@\\\\xca\\\\x1c\\\\xf1\\\\xc0o\\\\xcd\\\\x95\\\\xbf\\\\x8f\\\\x1em\\\\xc0`\\\\x18\\\\x15\\\\xbeX*\\\\x95?\\u003c\\\\xbc\\\\xb2@\\\\x00\\\\x00/\\\\xe2I?\\\\x0f\\\\\\\\z\\\\xbdK\\\\xa2\\\\x1c\\\\xbf`\\\\x18\\\\x15\\\\xbeX*\\\\x95?\\u003c\\\\xbc\\\\xb2@\\\\xca\\\\x1c\\\\xf1\\\\xc0o\\\\xcd\\\\x95\\\\xbf\\\\x8f\\\\x1em\\\\xc0@\\\\xdcT\\\\xbev\\\\xc2\\\\xff?\\u003c\\\\x81\\\\xad@\\\\x00\\\\x00\\\\x8e\\\\xb4G?A\\\\x1b\\\\xdd\\\\xba\\\\xdc* \\\\xbf@\\\\xdcT\\\\xbev\\\\xc2\\\\xff?\\u003c\\\\x81\\\\xad@\\\\xca\\\\x1c\\\\xf1\\\\xc0o\\\\xcd\\\\x95\\\\xbf\\\\x8f\\\\x1em\\\\xc0@C\\\\x9f\\\\xbe\\\\xffY3@zQ\\\\xa9@\\\\x00\\\\x00\\\\xf4\\\\xa7C?8\\\\x15\\\\x82=\\\\x8cI$\\\\xbf@C\\\\x9f\\\\xbe\\\\xffY3@zQ\\\\xa9@\\\\xca\\\\x1c\\\\xf1\\\\xc0o\\\\xcd\\\\x95\\\\xbf\\\\x8f\\\\x1em\\\\xc0\\\\xc0\\\\x03\\\\xe7\\\\xbe\\\\x18\\\\x05c@$V\\\\xa6@\\\\x00\\\\x00~\\\\xb7\\u003c?\\\\x9d\\\\xd1\\\\x0f\\u003e\\\\xa93)\\\\xbf\\\\xc0\\\\x03\\\\xe7\\\\xbe\\\\x18\\\\x05c@$V\\\\xa6@\\\\xca\\\\x1c\\\\xf1\\\\xc0o\\\\xcd\\\\x95\\\\xbf\\\\x8f\\\\x1em\\\\xc0\\\\xdcv\\\\x1f\\\\xbf\\\\xc9\\\\x86\\\\x86@\\\\x91\\\\xac\\\\xa4@\\\\x00\\\\x00Y\\\\x950?A`t\\u003e\\\\xae\\\\xfd.\\\\xbf\\\\xdcv\\\\x1f\\\\xbf\\\\xc9\\\\x86\\\\x86@\\\\x91\\\\xac\\\\xa4@\\\\xca\\\\x1c\\\\xf1\\\\xc0o\\\\xcd\\\\x95\\\\xbf\\\\x8f\\\\x1em\\\\xc0(\\\\xd0Q\\\\xbf\\\\xf5\\\\xea\\\\x97@\\\\x1ce\\\\xa4@\\\\x00\\\\x00\\\\xbb\\\\xbe\\\\x19?\\\\xf8\\\\x9f\\\\xbf\\u003e\\\\xe4\\\\xe14\\\\xbf(\\\\xd0Q\\\\xbf\\\\xf5\\\\xea\\\\x97@\\\\x1ce\\\\xa4@\\\\xca\\\\x1c\\\\xf1\\\\xc0o\\\\xcd\\\\x95\\\\xbf\\\\x8f\\\\x1em\\\\xc04O\\\\x84\\\\xbf\\\\xf3\\\\x03\\\\xa5@\\\\x82\\\\x82\\\\xa5@\\\\x00\\\\x00\\\\xf2\\\\xd9\\\\xd4\\u003e\\\\xfd\\\\x94\\\\x11?\\\\x9b\\\\xb35\\\\xbf4O\\\\x84\\\\xbf\\\\xf3\\\\x03\\\\xa5@\\\\x82\\\\x82\\\\xa5@\\\\xca\\\\x1c\\\\xf1\\\\xc0o\\\\xcd\\\\x95\\\\xbf\\\\x8f\\\\x1em\\\\xc0:\\\\xe3\\\\xa0\\\\xbf\\\\xedP\\\\xad@\\\\xcd\\\\xf9\\\\xa7@\\\\x00\\\\x00\\\\x00g\\\\x14=\\\\xef\\\\xefJ?\\\\xe4\\\\xc6\\\\x1b\\\\xbf:\\\\xe3\\\\xa0\\\\xbf\\\\xedP\\\\xad@\\\\xcd\\\\xf9\\\\xa7@\\\\xca\\\\x1c\\\\xf1\\\\xc0o\\\\xcd\\\\x95\\\\xbf\\\\x8f\\\\x1em\\\\xc0\\\\x02\\\\x8b\\\\xbd\\\\xbf9\\\\x80\\\\xb0@\\\\xba\\\\xb2\\\\xab@\\\\x00\\\\x00\\\\x80U\\\\xec\\\\xbe\\\\x81.U?\\\\x16\\\\x8a\\\\x9c\\\\xbe\\\\x02\\\\x8b\\\\xbd\\\\xbf9\\\\x80\\\\xb0@\\\\xba\\\\xb2\\\\xab@\\\\xca\\\\x1c\\\\xf1\\\\xc0o\\\\xcd\\\\x95\\\\xbf\\\\x8f\\\\x1em\\\\xc0\\\\x9c,\\\\xd9\\\\xbf\\\\x81r\\\\xae@\\\\xaa\\\\x88\\\\xb0@\\\\x00\\\\x00\\\\x9c\\\\xcc?\\\\xbf\\\\x1e\\\\x8e)?\\\\xd3\\\\xd2\\\\xa7\\\\xba\\\\x9c,\\\\xd9\\\\xbf\\\\x81r\\\\xae@\\\\xaa\\\\x88\\\\xb0@\\\\xca\\\\x1c\\\\xf1\\\\xc0o\\\\xcd\\\\x95\\\\xbf\\\\x8f\\\\x1em\\\\xc0\\u003c\\\\xb8\\\\xf2\\\\xbf\\\\xf8;\\\\xa7@\\\\x0cL\\\\xb6@\\\\x00\\\\x00\\\\xa7TZ\\\\xbf\\\\xb0q\\\\xfb\\u003eu\\\\x9f5\\u003e\\u003c\\\\xb8\\\\xf2\\\\xbf\\\\xf8;\\\\xa7@\\\\x0cL\\\\xb6@\\\\xca\\\\x1c\\\\xf1\\\\xc0o\\\\xcd\\\\x95\\\\xbf\\\\x8f\\\\x1em\\\\xc0D\\\\x99\\\\x04\\\\xc0\\\\x97#\\\\x9b@*\\\\xc4\\\\xbc@\\\\x00\\\\x00G\\\\x87c\\\\xbf\\\\x1c(\\\\xbb\\u003e\\\\xb9\\\\x8f\\\\x8d\\u003eD\\\\x99\\\\x04\\\\xc0\\\\x97#\\\\x9b@*\\\\xc4\\\\xbc@\\\\xca\\\\x1c\\\\xf1\\\\xc0o\\\\xcd\\\\x95\\\\xbf\\\\x8f\\\\x1em\\\\xc02\\\\xdf\\\\r\\\\xc0[\\\\xa0\\\\x8a@`\\\\xb1\\\\xc3@\\\\x00\\\\x00\\\\xbe\\\\xd8f\\\\xbf\\\\xd4\\\\\\\\\\\\x8b\\u003e#\\\\xef\\\\xab\\u003e2\\\\xdf\\\\r\\\\xc0[\\\\xa0\\\\x8a@`\\\\xb1\\\\xc3@\\\\xca\\\\x1c\\\\xf1\\\\xc0o\\\\xcd\\\\x95\\\\xbf\\\\x8f\\\\x1em\\\\xc0\\\\xac\\\\xd2\\\\x14\\\\xc0n\\\\xa9l@\\\\x8c\\\\xcf\\\\xca@\\\\x00\\\\x00\\\\xc2\\\\xf2g\\\\xbf\\\\x93\\\\x88J\\u003e\\u003e\\\\x8b\\\\xbf\\u003e\\\\xac\\\\xd2\\\\x14\\\\xc0n\\\\xa9l@\\\\x8c\\\\xcf\\\\xca@\\\\xca\\\\x1c\\\\xf1\\\\xc0o\\\\xcd\\\\x95\\\\xbf\\\\x8f\\\\x1em\\\\xc0P/\\\\x19\\\\xc0\\\\xa7\\\\x10\\u003e@\\\\xa6\\\\xd8\\\\xd1@\\\\x00\\\\x00\\\\x8e\\\\x17h\\\\xbfb\\\\x1c\\\\t\\u003e@\\\\xe2\\\\xcc\\u003eP/\\\\x19\\\\xc0\\\\xa7\\\\x10\\u003e@\\\\xa6\\\\xd8\\\\xd1@\\\\xca\\\\x1c\\\\xf1\\\\xc0o\\\\xcd\\\\x95\\\\xbf\\\\x8f\\\\x1em\\\\xc05\\\\xca\\\\x1a\\\\xc0\\\\xcf@\\\\x0b@v\\\\x87\\\\xd8@\\\\x00\\\\x00\\\\xcb\\\\xbbg\\\\xbf\\\\xc8\\\\xab\\\\x99=\\\\x05*\\\\xd6\\u003e5\\\\xca\\\\x1a\\\\xc0\\\\xcf@\\\\x0b@v\\\\x87\\\\xd8@\\\\xca\\\\x1c\\\\xf1\\\\xc0o\\\\xcd\\\\x95\\\\xbf\\\\x8f\\\\x1em\\\\xc0\\\\x90\\\\x93\\\\x19\\\\xc0\\\\x93[\\\\xac?\\u003e\\\\x9a\\\\xde@\\\\x00\\\\x00\\\\x0c\\\\x02g\\\\xbfw\\\\x9d\\\\x8b\\u003c\\\\x87y\\\\xdc\\u003e\\\\x90\\\\x93\\\\x19\\\\xc0\\\\x93[\\\\xac?\\u003e\\\\x9a\\\\xde@\\\\xca\\\\x1c\\\\xf1\\\\xc0o\\\\xcd\\\\x95\\\\xbf\\\\x8f\\\\x1em\\\\xc0Q\\\\x97\\\\x15\\\\xc0\\\\xe1\\\\x86\\\\x03?\\u003c\\\\xd5\\\\xe3@\\\\x00\\\\x00\\\\xdd\\\\xdde\\\\xbfV\\\\x104\\\\xbd\\\\xf0\\u003c\\\\xe0\\u003eQ\\\\x97\\\\x15\\\\xc0\\\\xe1\\\\x86\\\\x03?\\u003c\\\\xd5\\\\xe3@\\\\xca\\\\x1c\\\\xf1\\\\xc0o\\\\xcd\\\\x95\\\\xbf\\\\x8f\\\\x1em\\\\xc0\\\\xad\\\\xfc\\\\x0e\\\\xc0q\\\\xb8\\\\x94\\\\xbe\\\\x00\\\\x05\\\\xe8@\\\\x00\\\\x00\\\\xb2\\\\x10d\\\\xbf\\\\x8f\\\\x89\\\\xe6\\\\xbd\\\\xe2P\\\\xe1\\u003e\\\\xad\\\\xfc\\\\x0e\\\\xc0q\\\\xb8\\\\x94\\\\xbe\\\\x00\\\\x05\\\\xe8@\\\\xca\\\\x1c\\\\xf1\\\\xc0o\\\\xcd\\\\x95\\\\xbf\\\\x8f\\\\x1em\\\\xc0\\\\x9f\\\\x04\\\\x06\\\\xc0C\\\\x84\\\\x84\\\\xbfT\\\\x00\\\\xeb@\\\\x00\\\\x00-\\\\xff`\\\\xbf\\\\xb5\\\\x0bH\\\\xbe\\\\xe9\\\\xcf\\\\xde\\u003e\\\\x9f\\\\x04\\\\x06\\\\xc0C\\\\x84\\\\x84\\\\xbfT\\\\x00\\\\xeb@\\\\xca\\\\x1c\\\\xf1\\\\xc0o\\\\xcd\\\\x95\\\\xbf\\\\x8f\\\\x1em\\\\xc0\\\\xc0\\\\x0e\\\\xf6\\\\xbf7\\\\x95\\\\xd8\\\\xbf\\\\xe8\\\\xa9\\\\xec@\\\\x00\\\\x00\\\\xa4)[\\\\xbf\\\\xc6.\\\\x9b\\\\xbe\\\\x08R\\\\xd6\\u003e\\\\xc0\\\\x0e\\\\xf6\\\\xbf7\\\\x95\\\\xd8\\\\xbf\\\\xe8\\\\xa9\\\\xec@\\\\xca\\\\x1c\\\\xf1\\\\xc0o\\\\xcd\\\\x95\\\\xbf\\\\x8f\\\\x1em\\\\xc0\\\\x1a\\\\xe2\\\\xdc\\\\xbf\\\\xf3\\\\x12\\\\x0f\\\\xc0^\\\\xf1\\\\xec@\\\\x00\\\\x00\\\"\\\\x81N\\\\xbf5\\\\x82\\\\xe8\\\\xbe\\\\x11\\\\xab\\\\xc1\\u003e\\\\x1a\\\\xe2\\\\xdc\\\\xbf\\\\xf3\\\\x12\\\\x0f\\\\xc0^\\\\xf1\\\\xec@\\\\xca\\\\x1c\\\\xf1\\\\xc0o\\\\xcd\\\\x95\\\\xbf\\\\x8f\\\\x1em\\\\xc0\\\\xf8z\\\\xc1\\\\xbf\\\\xf2D)\\\\xc0\\\\xf6\\\\xd3\\\\xeb@\\\\x00\\\\x00bN\\\\x05?H\\\\x98N\\u003e\\\\xd3\\\\\\\\T?\\\\xf0\\\\xe6\\\\xa4\\\\xbf\\\\xe6\\\\xde9\\\\xc0\\\\xac\\\\\\\\\\\\xe9@,?\\\\x88\\\\xbf|=@\\\\xc0\\\\xbe\\\\xa3\\\\xe5@\\\\x1c;Y\\\\xbf\\\\x0c\\\"\\u003c\\\\xc0\\\\xce\\\\xcd\\\\xe0@\\\\x00\\\\x00\\\\x0cN\\\\x05?\\\\xae\\\\x99N\\u003e\\\\xf4\\\\\\\\T?\\\\x1c;Y\\\\xbf\\\\x0c\\\"\\u003c\\\\xc0\\\\xce\\\\xcd\\\\xe0@\\\\xe0#\\u0026\\\\xbf\\\\xfb\\\\xb4-\\\\xc0n\\\\n\\\\xdb@\\\\x90^\\\\xf2\\\\xbe9\\\\x84\\\\x15\\\\xc0P\\\\x92\\\\xd4@\\\\x00\\\\x00\\\\x94N\\\\x05?(\\\\x99N\\u003e\\\\xa6\\\\\\\\T?\\\\x90^\\\\xf2\\\\xbe9\\\\x84\\\\x15\\\\xc0P\\\\x92\\\\xd4@ /\\\\xa8\\\\xbe\\\\x7f\\\\xfb\\\\xe8\\\\xbf\\\\x18\\\\xa5\\\\xcd@\\\\xa0\\u0026a\\\\xbe\\\\xed\\\\xcc\\\\x97\\\\xbf\\\\xec\\\\x86\\\\xc6@\\\\x00\\\\x00\\\\xa6L\\\\x05?8\\\\x9aN\\u003e\\\\xcc]T?\\\\xa0\\u0026a\\\\xbe\\\\xed\\\\xcc\\\\x97\\\\xbf\\\\xec\\\\x86\\\\xc6@`\\\\\\\\\\\\x1b\\\\xbe\\\\x85m\\\\xea\\\\xbe\\\\xd4}\\\\xbf@\\\\x00\\\\xae\\\\x01\\\\xbe+\\\\x11\\\\xac\\u003e\\\\x04\\\\xcf\\\\xb8@\\\\x00\\\\x00\\\\xb8M\\\\x05?\\\\x9d\\\\x99N\\u003e(]T?\\\\x00\\\\xae\\\\x01\\\\xbe+\\\\x11\\\\xac\\u003e\\\\x04\\\\xcf\\\\xb8@`\\\\x18\\\\x15\\\\xbeX*\\\\x95?\\u003c\\\\xbc\\\\xb2@@\\\\xdcT\\\\xbev\\\\xc2\\\\xff?\\u003c\\\\x81\\\\xad@\\\\x00\\\\x00$N\\\\x05?0\\\\x99N\\u003e\\\\xec\\\\\\\\T?@\\\\xdcT\\\\xbev\\\\xc2\\\\xff?\\u003c\\\\x81\\\\xad@@C\\\\x9f\\\\xbe\\\\xffY3@zQ\\\\xa9@\\\\xc0\\\\x03\\\\xe7\\\\xbe\\\\x18\\\\x05c@$V\\\\xa6@\\\\x00\\\\x00\\\\x82O\\\\x05?\\\\xad\\\\x98N\\u003e\\\\x19\\\\\\\\T?\\\\xc0\\\\x03\\\\xe7\\\\xbe\\\\x18\\\\x05c@$V\\\\xa6@\\\\xdcv\\\\x1f\\\\xbf\\\\xc9\\\\x86\\\\x86@\\\\x91\\\\xac\\\\xa4@(\\\\xd0Q\\\\xbf\\\\xf5\\\\xea\\\\x97@\\\\x1ce\\\\xa4@\\\\x00\\\\x00\\\\xd2M\\\\x05?\\\\xe3\\\\x99N\\u003e\\\\x14]T?(\\\\xd0Q\\\\xbf\\\\xf5\\\\xea\\\\x97@\\\\x1ce\\\\xa4@4O\\\\x84\\\\xbf\\\\xf3\\\\x03\\\\xa5@\\\\x82\\\\x82\\\\xa5@:\\\\xe3\\\\xa0\\\\xbf\\\\xedP\\\\xad@\\\\xcd\\\\xf9\\\\xa7@\\\\x00\\\\x00\\\"N\\\\x05?\\\\x1e\\\\x99N\\u003e\\\\xee\\\\\\\\T?:\\\\xe3\\\\xa0\\\\xbf\\\\xedP\\\\xad@\\\\xcd\\\\xf9\\\\xa7@\\\\x02\\\\x8b\\\\xbd\\\\xbf9\\\\x80\\\\xb0@\\\\xba\\\\xb2\\\\xab@\\\\x9c,\\\\xd9\\\\xbf\\\\x81r\\\\xae@\\\\xaa\\\\x88\\\\xb0@\\\\x00\\\\x00\\\\x8aN\\\\x05?\\\\r\\\\x99N\\u003e\\\\xad\\\\\\\\T?\\\\x9c,\\\\xd9\\\\xbf\\\\x81r\\\\xae@\\\\xaa\\\\x88\\\\xb0@\\u003c\\\\xb8\\\\xf2\\\\xbf\\\\xf8;\\\\xa7@\\\\x0cL\\\\xb6@D\\\\x99\\\\x04\\\\xc0\\\\x97#\\\\x9b@*\\\\xc4\\\\xbc@\\\\x00\\\\x00\\\\xffM\\\\x05?\\\\r\\\\x9aN\\u003e\\\\xf7\\\\\\\\T?D\\\\x99\\\\x04\\\\xc0\\\\x97#\\\\x9b@*\\\\xc4\\\\xbc@2\\\\xdf\\\\r\\\\xc0[\\\\xa0\\\\x8a@`\\\\xb1\\\\xc3@\\\\xac\\\\xd2\\\\x14\\\\xc0n\\\\xa9l@\\\\x8c\\\\xcf\\\\xca@\\\\x00\\\\x00\\\\x8eM\\\\x05?}\\\\x9aN\\u003e5]T?\\\\xac\\\\xd2\\\\x14\\\\xc0n\\\\xa9l@\\\\x8c\\\\xcf\\\\xca@P/\\\\x19\\\\xc0\\\\xa7\\\\x10\\u003e@\\\\xa6\\\\xd8\\\\xd1@5\\\\xca\\\\x1a\\\\xc0\\\\xcf@\\\\x0b@v\\\\x87\\\\xd8@\\\\x00\\\\x00}M\\\\x05?M\\\\x99N\\u003eR]T?5\\\\xca\\\\x1a\\\\xc0\\\\xcf@\\\\x0b@v\\\\x87\\\\xd8@\\\\x90\\\\x93\\\\x19\\\\xc0\\\\x93[\\\\xac?\\u003e\\\\x9a\\\\xde@Q\\\\x97\\\\x15\\\\xc0\\\\xe1\\\\x86\\\\x03?\\u003c\\\\xd5\\\\xe3@\\\\x00\\\\x00\\\\xc0O\\\\x05?i\\\\x99N\\u003e\\\\xe6[T?Q\\\\x97\\\\x15\\\\xc0\\\\xe1\\\\x86\\\\x03?\\u003c\\\\xd5\\\\xe3@\\\\xad\\\\xfc\\\\x0e\\\\xc0q\\\\xb8\\\\x94\\\\xbe\\\\x00\\\\x05\\\\xe8@\\\\x9f\\\\x04\\\\x06\\\\xc0C\\\\x84\\\\x84\\\\xbfT\\\\x00\\\\xeb@\\\\x00\\\\x00\\\\x8bO\\\\x05?\\\\xcb\\\\x98N\\u003e\\\\x10\\\\\\\\T?\\\\x9f\\\\x04\\\\x06\\\\xc0C\\\\x84\\\\x84\\\\xbfT\\\\x00\\\\xeb@\\\\xc0\\\\x0e\\\\xf6\\\\xbf7\\\\x95\\\\xd8\\\\xbf\\\\xe8\\\\xa9\\\\xec@\\\\x1a\\\\xe2\\\\xdc\\\\xbf\\\\xf3\\\\x12\\\\x0f\\\\xc0^\\\\xf1\\\\xec@\\\\x00\\\\x00\\\\xb6M\\\\x05?\\\\xe9\\\\x97N\\u003eD]T?\\\\x1a\\\\xe2\\\\xdc\\\\xbf\\\\xf3\\\\x12\\\\x0f\\\\xc0^\\\\xf1\\\\xec@\\\\xf8z\\\\xc1\\\\xbf\\\\xf2D)\\\\xc0\\\\xf6\\\\xd3\\\\xeb@\\\\xf0\\\\xe6\\\\xa4\\\\xbf\\\\xe6\\\\xde9\\\\xc0\\\\xac\\\\\\\\\\\\xe9@\\\\x00\\\\x00[N\\\\x05?\\\\x00\\\\x99N\\u003e\\\\xcd\\\\\\\\T?\\\\xf0\\\\xe6\\\\xa4\\\\xbf\\\\xe6\\\\xde9\\\\xc0\\\\xac\\\\\\\\\\\\xe9@\\\\x1c;Y\\\\xbf\\\\x0c\\\"\\u003c\\\\xc0\\\\xce\\\\xcd\\\\xe0@\\\\x90^\\\\xf2\\\\xbe9\\\\x84\\\\x15\\\\xc0P\\\\x92\\\\xd4@\\\\x00\\\\x00\\\\xa5N\\\\x05?\\\\xe8\\\\x98N\\u003e\\\\x9f\\\\\\\\T?\\\\x90^\\\\xf2\\\\xbe9\\\\x84\\\\x15\\\\xc0P\\\\x92\\\\xd4@\\\\xa0\\u0026a\\\\xbe\\\\xed\\\\xcc\\\\x97\\\\xbf\\\\xec\\\\x86\\\\xc6@\\\\x00\\\\xae\\\\x01\\\\xbe+\\\\x11\\\\xac\\u003e\\\\x04\\\\xcf\\\\xb8@\\\\x00\\\\x00\\\\xd4N\\\\x05?\\\\xf4\\\\x98N\\u003e\\\\x82\\\\\\\\T?\\\\x00\\\\xae\\\\x01\\\\xbe+\\\\x11\\\\xac\\u003e\\\\x04\\\\xcf\\\\xb8@@\\\\xdcT\\\\xbev\\\\xc2\\\\xff?\\u003c\\\\x81\\\\xad@\\\\xc0\\\\x03\\\\xe7\\\\xbe\\\\x18\\\\x05c@$V\\\\xa6@\\\\x00\\\\x000N\\\\x05?\\\\x02\\\\x99N\\u003e\\\\xe6\\\\\\\\T?\\\\xc0\\\\x03\\\\xe7\\\\xbe\\\\x18\\\\x05c@$V\\\\xa6@(\\\\xd0Q\\\\xbf\\\\xf5\\\\xea\\\\x97@\\\\x1ce\\\\xa4@:\\\\xe3\\\\xa0\\\\xbf\\\\xedP\\\\xad@\\\\xcd\\\\xf9\\\\xa7@\\\\x00\\\\x00CN\\\\x05?x\\\\x99N\\u003e\\\\xd4\\\\\\\\T?:\\\\xe3\\\\xa0\\\\xbf\\\\xedP\\\\xad@\\\\xcd\\\\xf9\\\\xa7@\\\\x9c,\\\\xd9\\\\xbf\\\\x81r\\\\xae@\\\\xaa\\\\x88\\\\xb0@D\\\\x99\\\\x04\\\\xc0\\\\x97#\\\\x9b@*\\\\xc4\\\\xbc@\\\\x00\\\\x00NN\\\\x05?L\\\\x99N\\u003e\\\\xd1\\\\\\\\T?D\\\\x99\\\\x04\\\\xc0\\\\x97#\\\\x9b@*\\\\xc4\\\\xbc@\\\\xac\\\\xd2\\\\x14\\\\xc0n\\\\xa9l@\\\\x8c\\\\xcf\\\\xca@5\\\\xca\\\\x1a\\\\xc0\\\\xcf@\\\\x0b@v\\\\x87\\\\xd8@\\\\x00\\\\x00]N\\\\x05?\\\\'\\\\x99N\\u003e\\\\xca\\\\\\\\T?5\\\\xca\\\\x1a\\\\xc0\\\\xcf@\\\\x0b@v\\\\x87\\\\xd8@Q\\\\x97\\\\x15\\\\xc0\\\\xe1\\\\x86\\\\x03?\\u003c\\\\xd5\\\\xe3@\\\\x9f\\\\x04\\\\x06\\\\xc0C\\\\x84\\\\x84\\\\xbfT\\\\x00\\\\xeb@\\\\x00\\\\x00PN\\\\x05?g\\\\x99N\\u003e\\\\xce\\\\\\\\T?\\\\x9f\\\\x04\\\\x06\\\\xc0C\\\\x84\\\\x84\\\\xbfT\\\\x00\\\\xeb@\\\\x1a\\\\xe2\\\\xdc\\\\xbf\\\\xf3\\\\x12\\\\x0f\\\\xc0^\\\\xf1\\\\xec@\\\\xf0\\\\xe6\\\\xa4\\\\xbf\\\\xe6\\\\xde9\\\\xc0\\\\xac\\\\\\\\\\\\xe9@\\\\x00\\\\x00PN\\\\x05??\\\\x99N\\u003e\\\\xd0\\\\\\\\T?\\\\xf0\\\\xe6\\\\xa4\\\\xbf\\\\xe6\\\\xde9\\\\xc0\\\\xac\\\\\\\\\\\\xe9@\\\\x90^\\\\xf2\\\\xbe9\\\\x84\\\\x15\\\\xc0P\\\\x92\\\\xd4@\\\\x00\\\\xae\\\\x01\\\\xbe+\\\\x11\\\\xac\\u003e\\\\x04\\\\xcf\\\\xb8@\\\\x00\\\\x005N\\\\x05?[\\\\x99N\\u003e\\\\xdf\\\\\\\\T?\\\\x00\\\\xae\\\\x01\\\\xbe+\\\\x11\\\\xac\\u003e\\\\x04\\\\xcf\\\\xb8@\\\\xc0\\\\x03\\\\xe7\\\\xbe\\\\x18\\\\x05c@$V\\\\xa6@:\\\\xe3\\\\xa0\\\\xbf\\\\xedP\\\\xad@\\\\xcd\\\\xf9\\\\xa7@\\\\x00\\\\x00LN\\\\x05?:\\\\x99N\\u003e\\\\xd2\\\\\\\\T?:\\\\xe3\\\\xa0\\\\xbf\\\\xedP\\\\xad@\\\\xcd\\\\xf9\\\\xa7@D\\\\x99\\\\x04\\\\xc0\\\\x97#\\\\x9b@*\\\\xc4\\\\xbc@5\\\\xca\\\\x1a\\\\xc0\\\\xcf@\\\\x0b@v\\\\x87\\\\xd8@\\\\x00\\\\x00BN\\\\x05?0\\\\x99N\\u003e\\\\xda\\\\\\\\T?5\\\\xca\\\\x1a\\\\xc0\\\\xcf@\\\\x0b@v\\\\x87\\\\xd8@\\\\x9f\\\\x04\\\\x06\\\\xc0C\\\\x84\\\\x84\\\\xbfT\\\\x00\\\\xeb@\\\\xf0\\\\xe6\\\\xa4\\\\xbf\\\\xe6\\\\xde9\\\\xc0\\\\xac\\\\\\\\\\\\xe9@\\\\x00\\\\x00LN\\\\x05?\\u003e\\\\x99N\\u003e\\\\xd2\\\\\\\\T?\\\\xf0\\\\xe6\\\\xa4\\\\xbf\\\\xe6\\\\xde9\\\\xc0\\\\xac\\\\\\\\\\\\xe9@\\\\x00\\\\xae\\\\x01\\\\xbe+\\\\x11\\\\xac\\u003e\\\\x04\\\\xcf\\\\xb8@:\\\\xe3\\\\xa0\\\\xbf\\\\xedP\\\\xad@\\\\xcd\\\\xf9\\\\xa7@\\\\x00\\\\x00]N\\\\x05?5\\\\x99N\\u003e\\\\xc8\\\\\\\\T?:\\\\xe3\\\\xa0\\\\xbf\\\\xedP\\\\xad@\\\\xcd\\\\xf9\\\\xa7@5\\\\xca\\\\x1a\\\\xc0\\\\xcf@\\\\x0b@v\\\\x87\\\\xd8@\\\\xf0\\\\xe6\\\\xa4\\\\xbf\\\\xe6\\\\xde9\\\\xc0\\\\xac\\\\\\\\\\\\xe9@\\\\x00\\\\x00\\\\xbd\\\\x18/\\\\xbf{0,\\\\xbf\\\\x15\\\\x9c\\\\x90\\u003e\\\\xf8z\\\\xc1\\\\xbf\\\\xf2D)\\\\xc0\\\\xf6\\\\xd3\\\\xeb@\\\\xca\\\\x1c\\\\xf1\\\\xc0o\\\\xcd\\\\x95\\\\xbf\\\\x8f\\\\x1em\\\\xc0\\\\xf0\\\\xe6\\\\xa4\\\\xbf\\\\xe6\\\\xde9\\\\xc0\\\\xac\\\\\\\\\\\\xe9@\\\\x00\\\\x00\\\\'^\\\\xc0\\\\xbe\\u003e\\\\x9cl\\\\xbfE\\\\x9d\\\\x8a=\\\\xf0\\\\xe6\\\\xa4\\\\xbf\\\\xe6\\\\xde9\\\\xc0\\\\xac\\\\\\\\\\\\xe9@\\\\xca\\\\x1c\\\\xf1\\\\xc0o\\\\xcd\\\\x95\\\\xbf\\\\x8f\\\\x1em\\\\xc0,?\\\\x88\\\\xbf|=@\\\\xc0\\\\xbe\\\\xa3\\\\xe5@\\\\x00\\\\x00'\",\"is_part\":true,\"status\":\"FAILED\",\"progress\":0}\n",
      "\n"
     ]
    }
   ],
   "source": [
    "i = 0\n",
    "print(models_lst[i])\n",
    "\n",
    "with open(join(models_path, models_lst[i]), 'rb') as f:\n",
    "    task = {\n",
    "        'uuid': models_lst[i].split('.')[0],\n",
    "        'version': '1',\n",
    "        'id': '1234',\n",
    "        'file': str(f.read()),\n",
    "        'is_part': True\n",
    "    }\n",
    "    \n",
    "task = json.dumps(task)\n",
    "r = requests.post(api_url+'task', data=task)\n",
    "print('post:', r.status_code, r.text)\n",
    "\n",
    "r = requests.get(api_url+'healthcheck')\n",
    "print('healthcheck:', r.text)"
   ]
  },
  {
   "cell_type": "code",
   "execution_count": null,
   "id": "artistic-fellow",
   "metadata": {},
   "outputs": [],
   "source": []
  }
 ],
 "metadata": {
  "kernelspec": {
   "display_name": "Python 3",
   "language": "python",
   "name": "python3"
  },
  "language_info": {
   "codemirror_mode": {
    "name": "ipython",
    "version": 3
   },
   "file_extension": ".py",
   "mimetype": "text/x-python",
   "name": "python",
   "nbconvert_exporter": "python",
   "pygments_lexer": "ipython3",
   "version": "3.7.9"
  }
 },
 "nbformat": 4,
 "nbformat_minor": 5
}

{
 "cells": [
  {
   "cell_type": "code",
   "execution_count": 1,
   "id": "boolean-wagner",
   "metadata": {},
   "outputs": [],
   "source": [
    "import requests\n",
    "import json\n",
    "import os\n",
    "from os.path import join\n",
    "from typing import Tuple, List, Dict, Union, Set\n",
    "from time import sleep"
   ]
  },
  {
   "cell_type": "code",
   "execution_count": 2,
   "id": "exterior-congo",
   "metadata": {},
   "outputs": [],
   "source": [
    "api_url = 'http://45.14.48.80:10000/'\n",
    "upload_url = api_url + 'upload'\n",
    "task_url = api_url + 'task'\n",
    "healthcheck_url = api_url + 'healthcheck'\n",
    "results_url = api_url + 'results'\n",
    "\n",
    "CURL_POST = 'curl -vvvv -X POST'\n",
    "CURL_GET = 'curl -vvvv -X GET'\n",
    "\n",
    "cwd = os.getcwd()\n",
    "models_path = 'data/models'"
   ]
  },
  {
   "cell_type": "code",
   "execution_count": 3,
   "id": "logical-clark",
   "metadata": {},
   "outputs": [
    {
     "data": {
      "text/plain": [
       "['acf7bf74-d74f-4bfa-9141-720ae3dbc73c.stl',\n",
       " 'db68cd74-4697-409d-bb73-981ba4346c6a.stl']"
      ]
     },
     "execution_count": 3,
     "metadata": {},
     "output_type": "execute_result"
    }
   ],
   "source": [
    "models_lst = [el for el in os.listdir(models_path) if el.endswith('.stl')]\n",
    "models_lst[:2]"
   ]
  },
  {
   "cell_type": "code",
   "execution_count": 4,
   "id": "senior-window",
   "metadata": {},
   "outputs": [],
   "source": [
    "def upload(full_path: str, upload_url: str) -> Tuple[str, str]:\n",
    "    r = json.loads(os.popen(f'{CURL_POST} -H \"User-Id: test\" --form file=\"@{full_path}\" \"{upload_url}\"').read())\n",
    "    uuid = r['uuid']\n",
    "    filename = r['filename']\n",
    "    return uuid, filename"
   ]
  },
  {
   "cell_type": "code",
   "execution_count": 5,
   "id": "immune-alignment",
   "metadata": {},
   "outputs": [],
   "source": [
    "def task(uuid: str, filename: str, task_url: str):\n",
    "    config = {\n",
    "        'uuid' : uuid,\n",
    "        'verison': '1',\n",
    "        'file': filename,\n",
    "        'id': 'test',\n",
    "        'is_part': False\n",
    "    }\n",
    "    config = json.dumps(config)\n",
    "    os.popen(f'{CURL_POST} -d \\'{config}\\' \"{task_url}\"').read()"
   ]
  },
  {
   "cell_type": "code",
   "execution_count": 6,
   "id": "grave-brown",
   "metadata": {},
   "outputs": [],
   "source": [
    "def healthcheck(healthcheck_url: str) -> Tuple[str, str]:\n",
    "    r = json.loads(os.popen(f'{CURL_GET} \"{healthcheck_url}\"').read())\n",
    "    return r['status'], r['progress']"
   ]
  },
  {
   "cell_type": "code",
   "execution_count": 7,
   "id": "noticed-denial",
   "metadata": {},
   "outputs": [],
   "source": [
    "def get_bins_number_set(results_url: str) -> Set[int]:\n",
    "    r = json.loads(os.popen(f'{CURL_GET} \"{results_url}\"').read())['histogram_data']\n",
    "    return set([el['intervals'] for el in r if not el['type'].startswith('hull')])"
   ]
  },
  {
   "cell_type": "code",
   "execution_count": 8,
   "id": "artistic-fellow",
   "metadata": {},
   "outputs": [],
   "source": [
    "def get_results(bins_num: int, results_url: str) -> List[Dict[str, Union[str, List[float]]]]:\n",
    "    r = json.loads(os.popen(f'{CURL_GET} \"{results_url}\"').read())['histogram_data']\n",
    "    return [el for el in r if (el['intervals'] == bins_num) and not el['type'].startswith('hull')]"
   ]
  },
  {
   "cell_type": "code",
   "execution_count": null,
   "id": "premier-timer",
   "metadata": {},
   "outputs": [],
   "source": []
  },
  {
   "cell_type": "code",
   "execution_count": 9,
   "id": "proper-newton",
   "metadata": {},
   "outputs": [
    {
     "name": "stdout",
     "output_type": "stream",
     "text": [
      "progress: 13.644926485546577\n",
      "progress: 20.260648417932796\n",
      "progress: 27.289852971093154\n",
      "progress: 34.31905752425351\n",
      "progress: 41.34826207741387\n",
      "progress: 48.377466630574226\n",
      "progress: 54.54830882851552\n",
      "progress: 61.577513381675885\n",
      "progress: 68.19323531406211\n",
      "progress: 75.22243986722246\n",
      "progress: 82.25164442038282\n",
      "progress: 89.28084897354319\n",
      "progress: 96.31005352670354\n",
      "progress: 100\n"
     ]
    }
   ],
   "source": [
    "i = 0\n",
    "full_path = f'{cwd}/{models_path}/{models_lst[i]}'\n",
    "uuid, filename = upload(full_path, upload_url)\n",
    "task(uuid, filename, task_url)\n",
    "status, progress = healthcheck(healthcheck_url)\n",
    "while status != 'COMPLETED':\n",
    "    status, progress = healthcheck(healthcheck_url)\n",
    "    print(f'progress: {progress}')\n",
    "    sleep(10)"
   ]
  },
  {
   "cell_type": "code",
   "execution_count": 10,
   "id": "sudden-brick",
   "metadata": {},
   "outputs": [
    {
     "data": {
      "text/plain": [
       "{8, 16, 32, 64, 128}"
      ]
     },
     "execution_count": 10,
     "metadata": {},
     "output_type": "execute_result"
    }
   ],
   "source": [
    "get_bins_number_set(results_url)"
   ]
  },
  {
   "cell_type": "code",
   "execution_count": 11,
   "id": "academic-keeping",
   "metadata": {},
   "outputs": [
    {
     "data": {
      "text/plain": [
       "[{'type': 'model_bounding_sphere_strict_outer',\n",
       "  'intervals': 8,\n",
       "  'data': [0.025055699471029303,\n",
       "   0.17532994442600963,\n",
       "   0.25726323890681246,\n",
       "   0.37074515993207313,\n",
       "   0.13983843667827595,\n",
       "   0.028874494243226134,\n",
       "   0.0028804782765091837,\n",
       "   1.2548066064173598e-05]},\n",
       " {'type': 'model_bounding_sphere_strict_outer_absolute',\n",
       "  'intervals': 8,\n",
       "  'data': [0.004953797451954698,\n",
       "   0.03466472899522069,\n",
       "   0.05086387545682938,\n",
       "   0.07330054508035622,\n",
       "   0.02764765326560304,\n",
       "   0.005708816717488275,\n",
       "   0.000569503396346247,\n",
       "   2.480895724644832e-06]},\n",
       " {'type': 'model_bounding_sphere_missed',\n",
       "  'intervals': 8,\n",
       "  'data': [0,\n",
       "   0,\n",
       "   0.06518100107198813,\n",
       "   0.1495148566559468,\n",
       "   0.1891736071026085,\n",
       "   0.21859143508974466,\n",
       "   0.22274195321733872,\n",
       "   0.15479714686237322]},\n",
       " {'type': 'model_bounding_sphere_concentric_sphere',\n",
       "  'intervals': 8,\n",
       "  'data': [0.017836378795441428,\n",
       "   0.1218863368291316,\n",
       "   0.1523140028051899,\n",
       "   0.19100526739928783,\n",
       "   0.16607783704802564,\n",
       "   0.2210481260160448,\n",
       "   0.09853299165414184,\n",
       "   0.03129905945273701]}]"
      ]
     },
     "execution_count": 11,
     "metadata": {},
     "output_type": "execute_result"
    }
   ],
   "source": [
    "get_results(8, results_url)"
   ]
  },
  {
   "cell_type": "code",
   "execution_count": null,
   "id": "hearing-fantasy",
   "metadata": {},
   "outputs": [],
   "source": []
  }
 ],
 "metadata": {
  "kernelspec": {
   "display_name": "Python 3",
   "language": "python",
   "name": "python3"
  },
  "language_info": {
   "codemirror_mode": {
    "name": "ipython",
    "version": 3
   },
   "file_extension": ".py",
   "mimetype": "text/x-python",
   "name": "python",
   "nbconvert_exporter": "python",
   "pygments_lexer": "ipython3",
   "version": "3.7.9"
  }
 },
 "nbformat": 4,
 "nbformat_minor": 5
}
